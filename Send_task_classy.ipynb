{
 "cells": [
  {
   "cell_type": "code",
   "execution_count": 2,
   "id": "d15bbb27",
   "metadata": {},
   "outputs": [],
   "source": [
    "import requests"
   ]
  },
  {
   "cell_type": "code",
   "execution_count": 4,
   "id": "f0a5d166",
   "metadata": {},
   "outputs": [],
   "source": [
    "full_data = requests.get ('https://www.cbr-xml-daily.ru/daily_json.js')"
   ]
  },
  {
   "cell_type": "code",
   "execution_count": 10,
   "id": "ef2c79f1",
   "metadata": {},
   "outputs": [],
   "source": [
    "class CurrencyRate:\n",
    "    def __init__(self, format_='value'):\n",
    "        self.format = format_\n",
    "        \n",
    "    def exchange_rates(self):\n",
    "        self.r = requests.get ('https://www.cbr-xml-daily.ru/daily_json.js')\n",
    "        return self.r.json() ['Valute']"
   ]
  },
  {
   "cell_type": "code",
   "execution_count": 11,
   "id": "0bae714d",
   "metadata": {},
   "outputs": [],
   "source": [
    "#Maximum_Rate"
   ]
  },
  {
   "cell_type": "code",
   "execution_count": 26,
   "id": "4ff10564",
   "metadata": {},
   "outputs": [],
   "source": [
    "import requests\n",
    "\n",
    "class Rate:\n",
    "    def __init__(self, format='value'):\n",
    "        self.format = format\n",
    "    \n",
    "    def exchange_rates(self):\n",
    "        r = requests.get('https://www.cbr-xml-daily.ru/daily_json.js')\n",
    "        return r.json()['Valute']\n",
    "    \n",
    "    def make_format(self, currency):\n",
    "        response = self.exchange_rates()\n",
    "        \n",
    "        if currency in response:\n",
    "            if self.format == 'full':\n",
    "                return response[currency]\n",
    "            \n",
    "            if self.format == 'value':\n",
    "                return response[currency]['Value']\n",
    "        \n",
    "        return 'Error'\n",
    "    \n",
    "    def eur(self):\n",
    "        return self.make_format('EUR')\n",
    "    \n",
    "    def usd(self):\n",
    "        return self.make_format('USD')"
   ]
  },
  {
   "cell_type": "code",
   "execution_count": 28,
   "id": "dfceee7d",
   "metadata": {},
   "outputs": [],
   "source": [
    "import requests\n",
    "curr = Rate()\n",
    "a = curr.exchange_rates()\n",
    "\n",
    "def get_maximum(data_object):\n",
    "    maximum_value = 0\n",
    "    result_currency = ''\n",
    "    for currency in data_object:\n",
    "        if data_object[currency]['Value']/data_object[currency]['Nominal'] > maximum_value:\n",
    "            maximum_value = data_object[currency]['Value']/data_object[currency]['Nominal']\n",
    "            result_currency = currency\n",
    "    return data_object[result_currency]['Name']\n",
    "\n",
    "get_maximum(a)"
   ]
  },
  {
   "cell_type": "code",
   "execution_count": null,
   "id": "17a16dce",
   "metadata": {},
   "outputs": [],
   "source": [
    "#Task_2"
   ]
  },
  {
   "cell_type": "code",
   "execution_count": 29,
   "id": "64b1fc13",
   "metadata": {},
   "outputs": [
    {
     "data": {
      "text/plain": [
       "0.3511000000000024"
      ]
     },
     "execution_count": 29,
     "metadata": {},
     "output_type": "execute_result"
    }
   ],
   "source": [
    "import requests\n",
    "\n",
    "class Rate:\n",
    "    def __init__(self, format='value', diff='True'):\n",
    "        self.format = format\n",
    "        self.diff = diff\n",
    "    \n",
    "    def exchange_rates(self):\n",
    "        r = requests.get('https://www.cbr-xml-daily.ru/daily_json.js')\n",
    "        return r.json()['Valute']\n",
    "    \n",
    "    def make_format(self, currency):\n",
    "        response = self.exchange_rates()\n",
    "        \n",
    "        if currency in response:\n",
    "            if self.format == 'full':\n",
    "                return response[currency]\n",
    "            \n",
    "            if self.format == 'value':\n",
    "                return response[currency]['Value']\n",
    "        \n",
    "        return 'Error'\n",
    "    \n",
    "    def eur(self):\n",
    "        if self.diff:\n",
    "            return self.make_format('EUR')\n",
    "        else:\n",
    "            response = self.exchange_rates()\n",
    "            return response['EUR']['Value']-response['EUR']['Previous']\n",
    "    \n",
    "    def usd(self):\n",
    "        if self.diff:\n",
    "            return self.make_format('USD')\n",
    "        else:\n",
    "            response = self.exchange_rates()\n",
    "            return response['USD']['Value']-response['USD']['Previous']\n",
    "    \n",
    "    def get_currency_name(self, currency):\n",
    "        response = self.exchange_rates()\n",
    "        return response[currency]['Name']\n",
    "        \n",
    "\n",
    "curr2 = Rate()\n",
    "curr2.get_currency_name('USD')\n",
    "curr2.eur()\n",
    "curr2.usd()\n",
    "curr2.diff = False\n",
    "curr2.eur()\n",
    "curr2.usd()"
   ]
  },
  {
   "cell_type": "code",
   "execution_count": 30,
   "id": "d7dbd748",
   "metadata": {},
   "outputs": [],
   "source": [
    "#Designer"
   ]
  },
  {
   "cell_type": "code",
   "execution_count": 45,
   "id": "f353ec35",
   "metadata": {},
   "outputs": [],
   "source": [
    "# from lesson notebook\n",
    "class Employee:\n",
    "    def __init__(self, name, seniority):\n",
    "        self.name = name\n",
    "        self.seniority = seniority\n",
    "        \n",
    "    def grade(self):\n",
    "        return response(self.seniority / 2)\n",
    "    \n",
    "    def publish_grade(self):\n",
    "        \"\"\"Публикация результатов аккредитации сотрудников\"\"\"\n",
    "        print(self.name, self.grade)"
   ]
  },
  {
   "cell_type": "code",
   "execution_count": 51,
   "id": "31c37eb9",
   "metadata": {},
   "outputs": [],
   "source": [
    "class Designer:\n",
    "    def __init__(self, name, seniority, i_prise=2):\n",
    "        super()._init_(name, seniority)\n",
    "        self.i_prise=i_prise;\n",
    "        \n",
    "        \n",
    "    def grade(self):\n",
    "        return response((self.i_prise * 2 + seniority / 7))\n",
    "    \n",
    "    def win_prise(self):\n",
    "        print(\"Award\")\n",
    "        self.i_prise += 1\n",
    "            \n",
    "    def check_time_for_upgrade(self):\n",
    "        self.seniority += 1\n",
    "        \n",
    "        return self.publish_grade()   \n"
   ]
  },
  {
   "cell_type": "code",
   "execution_count": null,
   "id": "05e9c90d",
   "metadata": {},
   "outputs": [],
   "source": []
  }
 ],
 "metadata": {
  "kernelspec": {
   "display_name": "Python 3",
   "language": "python",
   "name": "python3"
  },
  "language_info": {
   "codemirror_mode": {
    "name": "ipython",
    "version": 3
   },
   "file_extension": ".py",
   "mimetype": "text/x-python",
   "name": "python",
   "nbconvert_exporter": "python",
   "pygments_lexer": "ipython3",
   "version": "3.8.8"
  }
 },
 "nbformat": 4,
 "nbformat_minor": 5
}
